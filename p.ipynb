{
 "cells": [
  {
   "cell_type": "code",
   "execution_count": 1,
   "id": "37979778-a9b0-425e-856b-a391f7c5eb75",
   "metadata": {},
   "outputs": [],
   "source": [
    "import pandas as pd"
   ]
  },
  {
   "cell_type": "markdown",
   "id": "6898b299",
   "metadata": {},
   "source": [
    "Group Students names and ID:\n",
    "Name: Aroub Alsalihi , ID:444200560\n",
    "Name: sarah alruwayte ,ID: 444200758\n",
    "Name: Sara Aljabali ,ID:444201613\n",
    "Name: Dana Binsaeed ,ID:444201175\n",
    "Name: Atheer Bin Badie ,ID: 444200894\n",
    "\n",
    "\n",
    "Project motivations:\n",
    "The Pet Adoption Dataset serves as a valuable resource for understanding the dynamics of pet adoption from shelters. With an increasing number of pets in need of homes, it's crucial to identify the factors that influence adoption rates. This project aims to analyze the dataset to uncover insights that can help improve adoption strategies and outcomes.\n",
    "To identify influential factors in pet adoption using the Pet Adoption Dataset, several data analysis techniques can be employed,\n",
    " \n",
    " for instance:\n",
    "  Clustering techniques, classification , summary statistics,and data visualisation, by applying these techniques, we can gain an overall understanding of the factors influencing pet adoption, enabling shelters and organizations to implement data-driven strategies to enhance their efforts.\n",
    "  \n",
    "\n",
    "Attributes Type :\n",
    "\n",
    "PetID: Nominal \n",
    "\n",
    "PetType: Nominal\n",
    "\n",
    "Breed: Nominal\n",
    "\n",
    "AgeMonths: Numeric (Ratio)\n",
    "\n",
    "Color: Nominal\n",
    "\n",
    "Size: Ordinal\n",
    "\n",
    "WeightKg: Numeric (Ratio)\n",
    "\n",
    "Vaccinated: Binary\n",
    "\n",
    "HealthCondition: Binary\n",
    "\n",
    "TimeInShelterDays: Numeric (Ratio)\n",
    "\n",
    "AdoptionFee: Numeric (Ratio)\n",
    "\n",
    "PreviousOwner: Binary\n",
    "\n",
    "AdoptionLikelihood: Binary"
   ]
  },
  {
   "cell_type": "code",
   "execution_count": 2,
   "id": "3187f42b-0c84-4b1f-ab05-1157de3d5e4a",
   "metadata": {},
   "outputs": [],
   "source": [
    "data=pd.read_csv(\"pet_adoption_data (1).csv\")"
   ]
  },
  {
   "cell_type": "code",
   "execution_count": 3,
   "id": "83dd33eb-e3a5-45f1-b5bb-4266422dbe90",
   "metadata": {},
   "outputs": [
    {
     "name": "stdout",
     "output_type": "stream",
     "text": [
      "<class 'pandas.core.frame.DataFrame'>\n",
      "RangeIndex: 2007 entries, 0 to 2006\n",
      "Data columns (total 13 columns):\n",
      " #   Column              Non-Null Count  Dtype  \n",
      "---  ------              --------------  -----  \n",
      " 0   PetID               2007 non-null   int64  \n",
      " 1   PetType             2007 non-null   object \n",
      " 2   Breed               2007 non-null   object \n",
      " 3   AgeMonths           2007 non-null   int64  \n",
      " 4   Color               2007 non-null   object \n",
      " 5   Size                2007 non-null   object \n",
      " 6   WeightKg            2007 non-null   float64\n",
      " 7   Vaccinated          2007 non-null   int64  \n",
      " 8   HealthCondition     2007 non-null   int64  \n",
      " 9   TimeInShelterDays   2007 non-null   int64  \n",
      " 10  AdoptionFee         2007 non-null   int64  \n",
      " 11  PreviousOwner       2007 non-null   int64  \n",
      " 12  AdoptionLikelihood  2007 non-null   int64  \n",
      "dtypes: float64(1), int64(8), object(4)\n",
      "memory usage: 204.0+ KB\n"
     ]
    }
   ],
   "source": [
    "data.info()"
   ]
  }
 ],
 "metadata": {
  "kernelspec": {
   "display_name": "Python 3 (ipykernel)",
   "language": "python",
   "name": "python3"
  },
  "language_info": {
   "codemirror_mode": {
    "name": "ipython",
    "version": 3
   },
   "file_extension": ".py",
   "mimetype": "text/x-python",
   "name": "python",
   "nbconvert_exporter": "python",
   "pygments_lexer": "ipython3",
   "version": "3.12.4"
  }
 },
 "nbformat": 4,
 "nbformat_minor": 5
}
