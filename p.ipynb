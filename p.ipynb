{
 "cells": [
  {
   "cell_type": "code",
   "execution_count": 1,
   "id": "37979778-a9b0-425e-856b-a391f7c5eb75",
   "metadata": {},
   "outputs": [],
   "source": [
    "import pandas as pd"
   ]
  },
  {
   "cell_type": "code",
   "execution_count": 2,
   "id": "3187f42b-0c84-4b1f-ab05-1157de3d5e4a",
   "metadata": {},
   "outputs": [],
   "source": [
    "data=pd.read_csv(\"pet_adoption_data (1).csv\")"
   ]
  },
  {
   "cell_type": "code",
   "execution_count": 3,
   "id": "83dd33eb-e3a5-45f1-b5bb-4266422dbe90",
   "metadata": {},
   "outputs": [
    {
     "name": "stdout",
     "output_type": "stream",
     "text": [
      "<class 'pandas.core.frame.DataFrame'>\n",
      "RangeIndex: 2007 entries, 0 to 2006\n",
      "Data columns (total 13 columns):\n",
      " #   Column              Non-Null Count  Dtype  \n",
      "---  ------              --------------  -----  \n",
      " 0   PetID               2007 non-null   int64  \n",
      " 1   PetType             2007 non-null   object \n",
      " 2   Breed               2007 non-null   object \n",
      " 3   AgeMonths           2007 non-null   int64  \n",
      " 4   Color               2007 non-null   object \n",
      " 5   Size                2007 non-null   object \n",
      " 6   WeightKg            2007 non-null   float64\n",
      " 7   Vaccinated          2007 non-null   int64  \n",
      " 8   HealthCondition     2007 non-null   int64  \n",
      " 9   TimeInShelterDays   2007 non-null   int64  \n",
      " 10  AdoptionFee         2007 non-null   int64  \n",
      " 11  PreviousOwner       2007 non-null   int64  \n",
      " 12  AdoptionLikelihood  2007 non-null   int64  \n",
      "dtypes: float64(1), int64(8), object(4)\n",
      "memory usage: 204.0+ KB\n"
     ]
    }
   ],
   "source": [
    "data.info()"
   ]
  },
  {
   "cell_type": "code",
   "execution_count": null,
   "id": "ff292312-b84c-4b81-89d0-4eef34fa7a8c",
   "metadata": {},
   "outputs": [],
   "source": []
  },
  {
   "cell_type": "code",
   "execution_count": null,
   "id": "3a287be0-2bf8-4e57-a56b-35da7b615315",
   "metadata": {},
   "outputs": [],
   "source": []
  }
 ],
 "metadata": {
  "kernelspec": {
   "display_name": "Python 3 (ipykernel)",
   "language": "python",
   "name": "python3"
  },
  "language_info": {
   "codemirror_mode": {
    "name": "ipython",
    "version": 3
   },
   "file_extension": ".py",
   "mimetype": "text/x-python",
   "name": "python",
   "nbconvert_exporter": "python",
   "pygments_lexer": "ipython3",
   "version": "3.12.4"
  }
 },
 "nbformat": 4,
 "nbformat_minor": 5
}
