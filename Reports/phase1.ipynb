{
 "cells": [
  {
   "cell_type": "code",
   "execution_count": 2,
   "id": "37979778-a9b0-425e-856b-a391f7c5eb75",
   "metadata": {},
   "outputs": [],
   "source": [
    "import pandas as pd\n",
    "import seaborn as sns\n",
    "import matplotlib.pyplot as plt"
   ]
  },
  {
   "cell_type": "markdown",
   "id": "6898b299",
   "metadata": {},
   "source": [
    "\n",
    " \n",
    " The goal of collecting this dataset are classification and clustering\n",
    "\n",
    " source of the dataset :https://www.kaggle.com/datasets/rabieelkharoua/predict-pet-adoption-status-dataset\n",
    "\n",
    "Attributes Type :\n",
    "\n",
    "PetID: Nominal , Unique identifier for each pet.\n",
    "\n",
    "PetType: Nominal , Type of pet (e.g., Dog, Cat, Bird, Rabbit).\n",
    "\n",
    "Breed: Nominal , Specific breed of the pet.\n",
    "\n",
    "AgeMonths: Numeric (Ratio) , Age of the pet in months.\n",
    "\n",
    "Color: Nominal , Color of the pet.\n",
    "\n",
    "Size: Ordinal , Size category of the pet (Small, Medium, Large).\n",
    "\n",
    "WeightKg: Numeric (Ratio) , Weight of the pet in kilograms.\n",
    "\n",
    "Vaccinated: Binary , Vaccination status of the pet (0 - Not vaccinated, 1 - Vaccinated).\n",
    "\n",
    "HealthCondition: Binary , Health condition of the pet (0 - Healthy, 1 - Medical condition).\n",
    "\n",
    "TimeInShelterDays: Numeric (Ratio) , Duration the pet has been in the shelter (days).\n",
    "\n",
    "AdoptionFee: Numeric (Ratio) , Adoption fee charged for the pet (in dollars).\n",
    "\n",
    "PreviousOwner: Binary , Whether the pet had a previous owner (0 - No, 1 - Yes).\n",
    "\n",
    "AdoptionLikelihood (class labels): Binary , Likelihood of the pet being adopted (0 - Unlikely, 1 - Likely)."
   ]
  },
  {
   "cell_type": "code",
   "execution_count": 3,
   "id": "3187f42b-0c84-4b1f-ab05-1157de3d5e4a",
   "metadata": {},
   "outputs": [],
   "source": [
    "data=pd.read_csv(\"dataset.csv\")"
   ]
  },
  {
   "cell_type": "code",
   "execution_count": 4,
   "id": "59f4d249",
   "metadata": {},
   "outputs": [],
   "source": [
    "df1=pd.DataFrame(data)"
   ]
  },
  {
   "cell_type": "code",
   "execution_count": 5,
   "id": "ce6317d8",
   "metadata": {},
   "outputs": [
    {
     "name": "stdout",
     "output_type": "stream",
     "text": [
      "2007\n"
     ]
    }
   ],
   "source": [
    "num_of_rows=len(df1)\n",
    "print(num_of_rows)"
   ]
  },
  {
   "cell_type": "code",
   "execution_count": 9,
   "id": "1448760d",
   "metadata": {},
   "outputs": [
    {
     "name": "stdout",
     "output_type": "stream",
     "text": [
      "number of colums: 13\n"
     ]
    }
   ],
   "source": [
    "col=df1.columns\n",
    "print('number of colums:', len(col))"
   ]
  },
  {
   "cell_type": "code",
   "execution_count": 7,
   "id": "83dd33eb-e3a5-45f1-b5bb-4266422dbe90",
   "metadata": {},
   "outputs": [
    {
     "name": "stdout",
     "output_type": "stream",
     "text": [
      "<class 'pandas.core.frame.DataFrame'>\n",
      "RangeIndex: 2007 entries, 0 to 2006\n",
      "Data columns (total 13 columns):\n",
      " #   Column              Non-Null Count  Dtype  \n",
      "---  ------              --------------  -----  \n",
      " 0   PetID               2007 non-null   int64  \n",
      " 1   PetType             2007 non-null   object \n",
      " 2   Breed               2007 non-null   object \n",
      " 3   AgeMonths           2007 non-null   int64  \n",
      " 4   Color               2007 non-null   object \n",
      " 5   Size                2007 non-null   object \n",
      " 6   WeightKg            2007 non-null   float64\n",
      " 7   Vaccinated          2007 non-null   int64  \n",
      " 8   HealthCondition     2007 non-null   int64  \n",
      " 9   TimeInShelterDays   2007 non-null   int64  \n",
      " 10  AdoptionFee         2007 non-null   int64  \n",
      " 11  PreviousOwner       2007 non-null   int64  \n",
      " 12  AdoptionLikelihood  2007 non-null   int64  \n",
      "dtypes: float64(1), int64(8), object(4)\n",
      "memory usage: 204.0+ KB\n"
     ]
    }
   ],
   "source": [
    "df1.info()"
   ]
  }
 ],
 "metadata": {
  "kernelspec": {
   "display_name": "Python 3 (ipykernel)",
   "language": "python",
   "name": "python3"
  },
  "language_info": {
   "codemirror_mode": {
    "name": "ipython",
    "version": 3
   },
   "file_extension": ".py",
   "mimetype": "text/x-python",
   "name": "python",
   "nbconvert_exporter": "python",
   "pygments_lexer": "ipython3",
   "version": "3.12.1"
  }
 },
 "nbformat": 4,
 "nbformat_minor": 5
}
